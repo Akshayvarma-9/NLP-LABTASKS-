{
  "nbformat": 4,
  "nbformat_minor": 0,
  "metadata": {
    "colab": {
      "provenance": [],
      "mount_file_id": "1aF7xO0TYurPbX5jAcaTUAZMcYr2F_nzv",
      "authorship_tag": "ABX9TyM3ysCiGqxxw/Ej15/QT/0T",
      "include_colab_link": true
    },
    "kernelspec": {
      "name": "python3",
      "display_name": "Python 3"
    },
    "language_info": {
      "name": "python"
    }
  },
  "cells": [
    {
      "cell_type": "markdown",
      "metadata": {
        "id": "view-in-github",
        "colab_type": "text"
      },
      "source": [
        "<a href=\"https://colab.research.google.com/github/Akshayvarma-9/NLP-LABTASKS-/blob/main/nlp(task6).ipynb\" target=\"_parent\"><img src=\"https://colab.research.google.com/assets/colab-badge.svg\" alt=\"Open In Colab\"/></a>"
      ]
    },
    {
      "cell_type": "code",
      "execution_count": 1,
      "metadata": {
        "colab": {
          "base_uri": "https://localhost:8080/"
        },
        "id": "5FkHTtZnHDCp",
        "outputId": "2cdfaa04-6e1e-49e0-8a57-93028cd024fc"
      },
      "outputs": [
        {
          "output_type": "stream",
          "name": "stderr",
          "text": [
            "[nltk_data] Downloading package punkt_tab to /root/nltk_data...\n",
            "[nltk_data]   Unzipping tokenizers/punkt_tab.zip.\n"
          ]
        },
        {
          "output_type": "stream",
          "name": "stdout",
          "text": [
            "Enter a sentence: hi my name is akshay\n",
            "Enter the value of N for N-grams: 100\n",
            "Next words: </s> </s> </s>\n"
          ]
        }
      ],
      "source": [
        "import nltk\n",
        "nltk.download('punkt_tab')\n",
        "from nltk.util import ngrams\n",
        "from nltk.lm import Laplace\n",
        "from nltk.tokenize import word_tokenize\n",
        "from nltk.lm.preprocessing import padded_everygram_pipeline\n",
        "\n",
        "def ngram_smoothing(sentence, n):\n",
        "    tokens = word_tokenize(sentence.lower())\n",
        "    train_data, padded_sents = padded_everygram_pipeline(n, [tokens])\n",
        "    model = Laplace(n)\n",
        "    model.fit(train_data, padded_sents)\n",
        "    return model\n",
        "\n",
        "\n",
        "sentence = input(\"Enter a sentence: \")\n",
        "n = int(input(\"Enter the value of N for N-grams: \"))\n",
        "\n",
        "model = ngram_smoothing(sentence, n)\n",
        "\n",
        "\n",
        "tokens = word_tokenize(sentence.lower())\n",
        "context = tokens[-n+1:] if n > 1 else []\n",
        "\n",
        "\n",
        "next_words = [model.generate(text_seed=context) for _ in range(3)]\n",
        "print(\"Next words:\", ' '.join(next_words))\n"
      ]
    }
  ]
}